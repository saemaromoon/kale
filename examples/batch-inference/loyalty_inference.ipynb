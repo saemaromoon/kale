{
 "cells": [
  {
   "cell_type": "markdown",
   "metadata": {
    "tags": []
   },
   "source": [
    "## Install Packages"
   ]
  },
  {
   "cell_type": "code",
   "execution_count": 3,
   "metadata": {},
   "outputs": [
    {
     "name": "stdout",
     "output_type": "stream",
     "text": [
      "Defaulting to user installation because normal site-packages is not writeable\n",
      "Collecting awscli==1.22.3\n",
      "  Downloading awscli-1.22.3-py3-none-any.whl (3.8 MB)\n",
      "     ━━━━━━━━━━━━━━━━━━━━━━━━━━━━━━━━━━━━━━━━ 3.8/3.8 MB 72.6 MB/s eta 0:00:00\n",
      "Collecting botocore==1.23.3\n",
      "  Downloading botocore-1.23.3-py3-none-any.whl (8.1 MB)\n",
      "     ━━━━━━━━━━━━━━━━━━━━━━━━━━━━━━━━━━━━━━━━ 8.1/8.1 MB 108.2 MB/s eta 0:00:00\n",
      "Collecting rsa<4.8,>=3.1.2\n",
      "  Downloading rsa-4.7.2-py3-none-any.whl (34 kB)\n",
      "Collecting colorama<0.4.4,>=0.2.5\n",
      "  Downloading colorama-0.4.3-py2.py3-none-any.whl (15 kB)\n",
      "Collecting docutils<0.16,>=0.10\n",
      "  Downloading docutils-0.15.2-py3-none-any.whl (547 kB)\n",
      "     ━━━━━━━━━━━━━━━━━━━━━━━━━━━━━━━━━━━━━━ 547.6/547.6 KB 68.7 MB/s eta 0:00:00\n",
      "Collecting s3transfer<0.6.0,>=0.5.0\n",
      "  Downloading s3transfer-0.5.2-py3-none-any.whl (79 kB)\n",
      "     ━━━━━━━━━━━━━━━━━━━━━━━━━━━━━━━━━━━━━━━━ 79.5/79.5 KB 20.5 MB/s eta 0:00:00\n",
      "Requirement already satisfied: PyYAML<5.5,>=3.10 in /usr/local/lib/python3.7/dist-packages (from awscli==1.22.3) (5.4.1)\n",
      "Collecting jmespath<1.0.0,>=0.7.1\n",
      "  Downloading jmespath-0.10.0-py2.py3-none-any.whl (24 kB)\n",
      "Requirement already satisfied: python-dateutil<3.0.0,>=2.1 in /usr/local/lib/python3.7/dist-packages (from botocore==1.23.3->awscli==1.22.3) (2.8.2)\n",
      "Requirement already satisfied: urllib3<1.27,>=1.25.4 in /usr/local/lib/python3.7/dist-packages (from botocore==1.23.3->awscli==1.22.3) (1.26.8)\n",
      "Requirement already satisfied: pyasn1>=0.1.3 in /usr/local/lib/python3.7/dist-packages (from rsa<4.8,>=3.1.2->awscli==1.22.3) (0.4.8)\n",
      "Requirement already satisfied: six>=1.5 in /usr/local/lib/python3.7/dist-packages (from python-dateutil<3.0.0,>=2.1->botocore==1.23.3->awscli==1.22.3) (1.15.0)\n",
      "Installing collected packages: rsa, jmespath, docutils, colorama, botocore, s3transfer, awscli\n"
     ]
    },
    {
     "name": "stderr",
     "output_type": "stream",
     "text": [
      "  WARNING: The scripts pyrsa-decrypt, pyrsa-encrypt, pyrsa-keygen, pyrsa-priv2pub, pyrsa-sign and pyrsa-verify are installed in '/home/jovyan/.local/bin' which is not on PATH.\n",
      "  Consider adding this directory to PATH or, if you prefer to suppress this warning, use --no-warn-script-location.\n"
     ]
    },
    {
     "name": "stdout",
     "output_type": "stream",
     "text": [
      "Successfully installed awscli-1.22.3 botocore-1.23.3 colorama-0.4.3 docutils-0.15.2 jmespath-0.10.0 rsa-4.7.2 s3transfer-0.5.2\n"
     ]
    },
    {
     "name": "stderr",
     "output_type": "stream",
     "text": [
      "WARNING: You are using pip version 22.0.3; however, version 22.0.4 is available.\n",
      "You should consider upgrading via the '/usr/bin/python3 -m pip install --upgrade pip' command.\n"
     ]
    },
    {
     "name": "stdout",
     "output_type": "stream",
     "text": [
      "Defaulting to user installation because normal site-packages is not writeable\n",
      "Collecting s3fs==2022.01.0\n",
      "  Downloading s3fs-2022.1.0-py3-none-any.whl (25 kB)\n",
      "Requirement already satisfied: aiohttp<=4 in /usr/local/lib/python3.7/dist-packages (from s3fs==2022.01.0) (3.8.1)\n",
      "Collecting aiobotocore~=2.1.0\n",
      "  Downloading aiobotocore-2.1.2.tar.gz (58 kB)\n",
      "     ━━━━━━━━━━━━━━━━━━━━━━━━━━━━━━━━━━━━━━━━ 58.7/58.7 KB 10.2 MB/s eta 0:00:00\n",
      "  Preparing metadata (setup.py): started\n",
      "  Preparing metadata (setup.py): finished with status 'done'\n",
      "Collecting fsspec==2022.01.0\n",
      "  Downloading fsspec-2022.1.0-py3-none-any.whl (133 kB)\n",
      "     ━━━━━━━━━━━━━━━━━━━━━━━━━━━━━━━━━━━━━━ 133.2/133.2 KB 23.3 MB/s eta 0:00:00\n",
      "Collecting botocore<1.23.25,>=1.23.24\n",
      "  Downloading botocore-1.23.24-py3-none-any.whl (8.4 MB)\n",
      "     ━━━━━━━━━━━━━━━━━━━━━━━━━━━━━━━━━━━━━━━━ 8.4/8.4 MB 106.7 MB/s eta 0:00:00\n",
      "Requirement already satisfied: wrapt>=1.10.10 in /usr/local/lib/python3.7/dist-packages (from aiobotocore~=2.1.0->s3fs==2022.01.0) (1.14.0)\n",
      "Collecting aioitertools>=0.5.1\n",
      "  Downloading aioitertools-0.10.0-py3-none-any.whl (23 kB)\n",
      "Requirement already satisfied: multidict<7.0,>=4.5 in /usr/local/lib/python3.7/dist-packages (from aiohttp<=4->s3fs==2022.01.0) (6.0.2)\n",
      "Requirement already satisfied: asynctest==0.13.0 in /usr/local/lib/python3.7/dist-packages (from aiohttp<=4->s3fs==2022.01.0) (0.13.0)\n",
      "Requirement already satisfied: attrs>=17.3.0 in /usr/local/lib/python3.7/dist-packages (from aiohttp<=4->s3fs==2022.01.0) (20.3.0)\n",
      "Requirement already satisfied: frozenlist>=1.1.1 in /usr/local/lib/python3.7/dist-packages (from aiohttp<=4->s3fs==2022.01.0) (1.3.0)\n",
      "Requirement already satisfied: aiosignal>=1.1.2 in /usr/local/lib/python3.7/dist-packages (from aiohttp<=4->s3fs==2022.01.0) (1.2.0)\n",
      "Requirement already satisfied: async-timeout<5.0,>=4.0.0a3 in /usr/local/lib/python3.7/dist-packages (from aiohttp<=4->s3fs==2022.01.0) (4.0.2)\n",
      "Requirement already satisfied: yarl<2.0,>=1.0 in /usr/local/lib/python3.7/dist-packages (from aiohttp<=4->s3fs==2022.01.0) (1.7.2)\n",
      "Requirement already satisfied: typing-extensions>=3.7.4 in /usr/local/lib/python3.7/dist-packages (from aiohttp<=4->s3fs==2022.01.0) (3.10.0.2)\n",
      "Requirement already satisfied: charset-normalizer<3.0,>=2.0 in /usr/local/lib/python3.7/dist-packages (from aiohttp<=4->s3fs==2022.01.0) (2.0.12)\n",
      "Collecting typing-extensions>=3.7.4\n",
      "  Downloading typing_extensions-4.1.1-py3-none-any.whl (26 kB)\n",
      "Requirement already satisfied: jmespath<1.0.0,>=0.7.1 in /home/jovyan/.local/lib/python3.7/site-packages (from botocore<1.23.25,>=1.23.24->aiobotocore~=2.1.0->s3fs==2022.01.0) (0.10.0)\n",
      "Requirement already satisfied: python-dateutil<3.0.0,>=2.1 in /usr/local/lib/python3.7/dist-packages (from botocore<1.23.25,>=1.23.24->aiobotocore~=2.1.0->s3fs==2022.01.0) (2.8.2)\n",
      "Requirement already satisfied: urllib3<1.27,>=1.25.4 in /usr/local/lib/python3.7/dist-packages (from botocore<1.23.25,>=1.23.24->aiobotocore~=2.1.0->s3fs==2022.01.0) (1.26.8)\n",
      "Requirement already satisfied: idna>=2.0 in /usr/lib/python3/dist-packages (from yarl<2.0,>=1.0->aiohttp<=4->s3fs==2022.01.0) (2.6)\n",
      "Requirement already satisfied: six>=1.5 in /usr/local/lib/python3.7/dist-packages (from python-dateutil<3.0.0,>=2.1->botocore<1.23.25,>=1.23.24->aiobotocore~=2.1.0->s3fs==2022.01.0) (1.15.0)\n",
      "Building wheels for collected packages: aiobotocore\n",
      "  Building wheel for aiobotocore (setup.py): started\n",
      "  Building wheel for aiobotocore (setup.py): finished with status 'done'\n",
      "  Created wheel for aiobotocore: filename=aiobotocore-2.1.2-py3-none-any.whl size=58584 sha256=a3770de01eae3e1bb1259d5aaac406c1319fb2696093e3bb12a954b5d3997be0\n",
      "  Stored in directory: /home/jovyan/.cache/pip/wheels/0e/9e/81/732cf36b7a7e73f82ef7793b779210f0bf94e12c13b3f2a18e\n",
      "Successfully built aiobotocore\n",
      "Installing collected packages: typing-extensions, fsspec, botocore, aioitertools, aiobotocore, s3fs\n",
      "  Attempting uninstall: botocore\n",
      "    Found existing installation: botocore 1.23.3\n",
      "    Uninstalling botocore-1.23.3:\n",
      "      Successfully uninstalled botocore-1.23.3\n",
      "Successfully installed aiobotocore-2.1.2 aioitertools-0.10.0 botocore-1.23.24 fsspec-2022.1.0 s3fs-2022.1.0 typing-extensions-4.1.1\n"
     ]
    },
    {
     "name": "stderr",
     "output_type": "stream",
     "text": [
      "ERROR: pip's dependency resolver does not currently take into account all the packages that are installed. This behaviour is the source of the following dependency conflicts.\n",
      "awscli 1.22.3 requires botocore==1.23.3, but you have botocore 1.23.24 which is incompatible.\n",
      "tensorflow-gpu 2.8.0 requires numpy>=1.20, but you have numpy 1.18.5 which is incompatible.\n",
      "kfp 1.8.11 requires typing-extensions<4,>=3.7.4; python_version < \"3.9\", but you have typing-extensions 4.1.1 which is incompatible.\n",
      "WARNING: You are using pip version 22.0.3; however, version 22.0.4 is available.\n",
      "You should consider upgrading via the '/usr/bin/python3 -m pip install --upgrade pip' command.\n"
     ]
    }
   ],
   "source": [
    "import subprocess\n",
    "import sys\n",
    "\n",
    "def install(package):\n",
    "    subprocess.check_call([sys.executable, \"-m\", \"pip\", \"install\", package])\n",
    "\n",
    "install(\"awscli==1.22.3\")\n",
    "install(\"s3fs==2022.01.0\")"
   ]
  },
  {
   "cell_type": "markdown",
   "metadata": {
    "tags": []
   },
   "source": [
    "## Import Libraries"
   ]
  },
  {
   "cell_type": "code",
   "execution_count": 4,
   "metadata": {},
   "outputs": [
    {
     "name": "stderr",
     "output_type": "stream",
     "text": [
      "2022-03-28 02:06:30.520761: I tensorflow/stream_executor/platform/default/dso_loader.cc:48] Successfully opened dynamic library libcudart.so.10.1\n"
     ]
    }
   ],
   "source": [
    "import s3fs\n",
    "import pandas as pd\n",
    "import numpy as np \n",
    "import pickle\n",
    "import sys\n",
    "import os \n",
    "from typing import List\n",
    "from typing import Optional \n",
    "import re\n",
    "import pyarrow.parquet as pq\n",
    "import pyarrow as pa\n",
    "\n",
    "import xgboost  \n",
    "from tensorflow.keras.models import load_model \n",
    "import warnings\n",
    "warnings.filterwarnings(\"ignore\")"
   ]
  },
  {
   "cell_type": "code",
   "execution_count": null,
   "metadata": {},
   "outputs": [],
   "source": [
    "## Test Code Block"
   ]
  },
  {
   "cell_type": "code",
   "execution_count": 9,
   "metadata": {},
   "outputs": [
    {
     "data": {
      "text/plain": [
       "['zigbang-mlops/loyalty/',\n",
       " 'zigbang-mlops/loyalty/mean.npy',\n",
       " 'zigbang-mlops/loyalty/model.json',\n",
       " 'zigbang-mlops/loyalty/model_logit.pkl',\n",
       " 'zigbang-mlops/loyalty/model_nn.h5',\n",
       " 'zigbang-mlops/loyalty/model_xgb.json',\n",
       " 'zigbang-mlops/loyalty/std.npy']"
      ]
     },
     "execution_count": 9,
     "metadata": {},
     "output_type": "execute_result"
    }
   ],
   "source": [
    "fs = s3fs.S3FileSystem(anon=False, key='****', secret='****')\n",
    "fs.ls(\"s3://zigbang-data/stage/dw_member_loyalty_inference_result/tmpdata\")\n",
    "fs.ls(\"s3://zigbang-mlops/loyalty\")"
   ]
  },
  {
   "cell_type": "markdown",
   "metadata": {
    "tags": []
   },
   "source": [
    "## Define Functions"
   ]
  },
  {
   "cell_type": "code",
   "execution_count": 10,
   "metadata": {},
   "outputs": [],
   "source": [
    "AWS_KEY = \"***\"\n",
    "AWS_SECRET = \"***\""
   ]
  },
  {
   "cell_type": "code",
   "execution_count": 11,
   "metadata": {},
   "outputs": [],
   "source": [
    "def timer(fn):\n",
    "    from time import perf_counter\n",
    "\n",
    "    def inner(*args, **kwargs):\n",
    "        start_time = perf_counter()\n",
    "        to_execute = fn(*args, **kwargs)\n",
    "        end_time = perf_counter()\n",
    "        execution_time = end_time - start_time\n",
    "        print('{0} took {1:.8f}s to execute'.format(fn.__name__, execution_time))\n",
    "        return to_execute\n",
    "\n",
    "    return inner "
   ]
  },
  {
   "cell_type": "code",
   "execution_count": 12,
   "metadata": {},
   "outputs": [],
   "source": [
    "class BatchInput:\n",
    "    base_date: str\n",
    "    target_db: str"
   ]
  },
  {
   "cell_type": "code",
   "execution_count": 13,
   "metadata": {},
   "outputs": [],
   "source": [
    "class LoyaltyClassifier:\n",
    "    _CONST_MODEL_BUCKET_PATH = \"s3://zigbang-mlops/loyalty\" \n",
    "    _CONST_MODEL_XGB_PATH = \"model/model_xgb.json\"\n",
    "    _CONST_MODEL_LR_PATH = \"model/model_logit.pkl\"\n",
    "    _CONST_MODEL_NN_PATH = \"model/model_nn.h5\"\n",
    "    _CONST_MODEL_MEAN_PATH = \"model/mean.npy\"\n",
    "    _CONST_MODEL_STD_PATH = \"model/std.npy\"\n",
    "\n",
    "    _CONST_BASE_S3_URI = \"s3://zigbang-data/\"\n",
    "    _CONST_DATA_PATH = \"/dw_member_loyalty_feature/\"\n",
    "    _CONST_OUTPUT_PATH = \"/dw_member_loyalty_inference_result\"  \n",
    "    \n",
    "    def __init__(self) -> None:\n",
    "        self._s3_model_loader()\n",
    "        self.models, self.mean, self.std = self._load_model() \n",
    "             \n",
    "    @timer\n",
    "    def batch_classify(self, input):\n",
    "        df = self._s3_data_loader(input)\n",
    "        feature_list = [f\"f{i}\" for i in range(1,19)] \n",
    " \n",
    "        user_no, X_pred, y_pred = df[\"user_no\"], df[feature_list], np.where(df[\"call_cnt\"]>0, 1, 0)\n",
    "        \n",
    "        # standardization\n",
    "        X_pred -= self.mean\n",
    "        X_pred /= self.std\n",
    "             \n",
    "        d_pred = xgboost.DMatrix(X_pred, label=y_pred)\n",
    "        prob_xgb = self.models['xgb'].predict(d_pred)\n",
    "        prob_lr = self.models['lr'].predict(X_pred)\n",
    "        prob_nn = self.models['nn'].predict(X_pred).flatten()\n",
    "         \n",
    "        result = pd.concat([user_no, X_pred, pd.Series(y_pred, name=\"call\"), \\\n",
    "            pd.Series((prob_xgb+prob_lr+prob_nn)/3, name=\"prob\"), \\\n",
    "            pd.Series(prob_xgb, name=\"prob_xgb\"), pd.Series(prob_lr, name=\"prob_lr\"), \\\n",
    "            pd.Series(prob_nn, name=\"prob_nn\"), df[\"roll_period\"]], axis=1)\n",
    "        # add base date on dag - task2\n",
    "        #result['base_date'] = pd.to_datetime(input.base_date).strftime(\"%Y-%m-%d\") \n",
    "                 \n",
    "        return result \n",
    " \n",
    "    @timer\n",
    "    def _load_model(self): \n",
    "        models = {}\n",
    "        model_xgb = xgboost.Booster()\n",
    "        model_xgb.load_model(self._CONST_MODEL_XGB_PATH)\n",
    "        models['xgb'] = model_xgb\n",
    "\n",
    "        model_lr = pickle.load(open(self._CONST_MODEL_LR_PATH, \"rb\"))\n",
    "        models['lr'] = model_lr\n",
    "\n",
    "        model_nn = load_model(self._CONST_MODEL_NN_PATH)\n",
    "        models['nn'] = model_nn\n",
    "\n",
    "        mean = np.load(self._CONST_MODEL_MEAN_PATH)\n",
    "        std = np.load(self._CONST_MODEL_STD_PATH)\n",
    "        return models, mean, std\n",
    "        \n",
    "    @timer\n",
    "    def _s3_model_loader(self):\n",
    "        fs = s3fs.S3FileSystem(anon=False, key=AWS_KEY, secret=AWS_SECRET) \n",
    "        fs.ls(self._CONST_MODEL_BUCKET_PATH)\n",
    "        fs.download(\"zigbang-mlops/loyalty/model_xgb.json\", self._CONST_MODEL_XGB_PATH)\n",
    "        fs.download(\"zigbang-mlops/loyalty/model_logit.pkl\", self._CONST_MODEL_LR_PATH)\n",
    "        fs.download(\"zigbang-mlops/loyalty/model_nn.h5\", self._CONST_MODEL_NN_PATH)\n",
    "        fs.download(\"zigbang-mlops/loyalty/mean.npy\", self._CONST_MODEL_MEAN_PATH)\n",
    "        fs.download(\"zigbang-mlops/loyalty/std.npy\", self._CONST_MODEL_STD_PATH)\n",
    "\n",
    "    @timer\n",
    "    def _s3_data_loader(self, input):\n",
    "        fs = s3fs.S3FileSystem(anon=False, key=AWS_KEY, secret=AWS_SECRET) \n",
    "        print(\"target url: \", self._CONST_BASE_S3_URI+input.target_db+self._CONST_DATA_PATH)\n",
    "        batch_data = fs.ls(self._CONST_BASE_S3_URI+input.target_db+self._CONST_DATA_PATH, refresh=True)\n",
    "        data = ''\n",
    "\n",
    "        try: \n",
    "            for batch in batch_data:\n",
    "                if bool(re.search(input.base_date, batch)) is True:\n",
    "                    uri = f's3://{batch}'\n",
    "                    data = fs.ls(uri, refresh=True)[0]\n",
    "            if(len(data) == 0):\n",
    "                raise Exception('wrong s3 uri: ', data) \n",
    "            \n",
    "        except Exception as e:\n",
    "            print(e)\n",
    "\n",
    "        bucket_uri = f's3://{data}' \n",
    "        df = pq.ParquetDataset(bucket_uri, filesystem=fs).read_pandas().to_pandas()\n",
    "        \n",
    "        return df "
   ]
  },
  {
   "cell_type": "markdown",
   "metadata": {
    "tags": []
   },
   "source": [
    "## Batch Inference Step"
   ]
  },
  {
   "cell_type": "code",
   "execution_count": null,
   "metadata": {},
   "outputs": [
    {
     "name": "stdout",
     "output_type": "stream",
     "text": [
      "_s3_model_loader took 0.86476969s to execute\n",
      "_load_model took 0.21858326s to execute\n",
      "target url:  s3://zigbang-data/stage/dw_member_loyalty_feature/\n",
      "_s3_data_loader took 3.77606619s to execute\n"
     ]
    }
   ],
   "source": [
    "batch_input = BatchInput()\n",
    "batch_input.base_date = \"2022-03-08\"\n",
    "batch_input.target_db = \"stage\"\n",
    "\n",
    "classifier = LoyaltyClassifier()\n",
    "\n",
    " \n",
    "result = classifier.batch_classify(batch_input) "
   ]
  },
  {
   "cell_type": "markdown",
   "metadata": {
    "tags": []
   },
   "source": [
    "## Upload parquet temp table to S3"
   ]
  },
  {
   "cell_type": "code",
   "execution_count": 1,
   "metadata": {},
   "outputs": [
    {
     "ename": "NameError",
     "evalue": "name 'pa' is not defined",
     "output_type": "error",
     "traceback": [
      "\u001b[0;31m---------------------------------------------------------------------------\u001b[0m",
      "\u001b[0;31mNameError\u001b[0m                                 Traceback (most recent call last)",
      "\u001b[0;32m/tmp/ipykernel_827/611487874.py\u001b[0m in \u001b[0;36m<module>\u001b[0;34m\u001b[0m\n\u001b[0;32m----> 1\u001b[0;31m \u001b[0mtable\u001b[0m \u001b[0;34m=\u001b[0m \u001b[0mpa\u001b[0m\u001b[0;34m.\u001b[0m\u001b[0mTable\u001b[0m\u001b[0;34m.\u001b[0m\u001b[0mfrom_pandas\u001b[0m\u001b[0;34m(\u001b[0m\u001b[0mresult\u001b[0m\u001b[0;34m)\u001b[0m\u001b[0;34m\u001b[0m\u001b[0;34m\u001b[0m\u001b[0m\n\u001b[0m\u001b[1;32m      2\u001b[0m \u001b[0;34m\u001b[0m\u001b[0m\n\u001b[1;32m      3\u001b[0m \u001b[0mprint\u001b[0m\u001b[0;34m(\u001b[0m\u001b[0;34m\"uploading tmp table...\"\u001b[0m\u001b[0;34m)\u001b[0m\u001b[0;34m\u001b[0m\u001b[0;34m\u001b[0m\u001b[0m\n\u001b[1;32m      4\u001b[0m \u001b[0mfs\u001b[0m \u001b[0;34m=\u001b[0m \u001b[0ms3fs\u001b[0m\u001b[0;34m.\u001b[0m\u001b[0mS3FileSystem\u001b[0m\u001b[0;34m(\u001b[0m\u001b[0manon\u001b[0m\u001b[0;34m=\u001b[0m\u001b[0;32mFalse\u001b[0m\u001b[0;34m,\u001b[0m \u001b[0mkey\u001b[0m\u001b[0;34m=\u001b[0m\u001b[0mAWS_KEY\u001b[0m\u001b[0;34m,\u001b[0m \u001b[0msecret\u001b[0m\u001b[0;34m=\u001b[0m\u001b[0mAWS_SECRET\u001b[0m\u001b[0;34m)\u001b[0m\u001b[0;34m\u001b[0m\u001b[0;34m\u001b[0m\u001b[0m\n\u001b[1;32m      5\u001b[0m \u001b[0;31m# temp file clean up\u001b[0m\u001b[0;34m\u001b[0m\u001b[0;34m\u001b[0m\u001b[0;34m\u001b[0m\u001b[0m\n",
      "\u001b[0;31mNameError\u001b[0m: name 'pa' is not defined"
     ]
    }
   ],
   "source": [
    "table = pa.Table.from_pandas(result) \n",
    "    \n",
    "print(\"uploading tmp table...\")\n",
    "fs = s3fs.S3FileSystem(anon=False, key=AWS_KEY, secret=AWS_SECRET) \n",
    "# temp file clean up\n",
    "if(len(fs.ls(\"s3://zigbang-data/\"+batch_input.target_db+\"/dw_member_loyalty_inference_result/tmpdata\")) > 0):\n",
    "    print(\"clean up tmp files...\")\n",
    "    fs.rm(\"s3://zigbang-data/\"+batch_input.target_db+\"/dw_member_loyalty_inference_result/tmpdata\", \"-rf\")\n",
    "print(\"writing tmp table...\")\n",
    "pq.write_to_dataset(table=table, \\\n",
    "    root_path=\"s3://zigbang-data/\"+batch_input.target_db+\"/dw_member_loyalty_inference_result/tmpdata\", filesystem=fs)\n",
    "print(\"done\")"
   ]
  }
 ],
 "metadata": {
  "kernelspec": {
   "display_name": "Python 3 (ipykernel)",
   "language": "python",
   "name": "python3"
  },
  "kubeflow_notebook": {
   "autosnapshot": false,
   "docker_image": "saemaromoon/tf2.1.0-kale@sha256:21e4e9d192b8d684244d411d52c6b83555f5dd777e1c08f5c0a1f660ce6ddd0e",
   "experiment": {
    "id": "",
    "name": ""
   },
   "experiment_name": "",
   "katib_metadata": {
    "algorithm": {
     "algorithmName": "grid"
    },
    "maxFailedTrialCount": 3,
    "maxTrialCount": 12,
    "objective": {
     "objectiveMetricName": "",
     "type": "minimize"
    },
    "parallelTrialCount": 3,
    "parameters": []
   },
   "katib_run": false,
   "pipeline_description": "",
   "pipeline_name": "",
   "snapshot_volumes": false,
   "steps_defaults": [],
   "volume_access_mode": "rwm",
   "volumes": []
  },
  "language_info": {
   "codemirror_mode": {
    "name": "ipython",
    "version": 3
   },
   "file_extension": ".py",
   "mimetype": "text/x-python",
   "name": "python",
   "nbconvert_exporter": "python",
   "pygments_lexer": "ipython3",
   "version": "3.7.12"
  }
 },
 "nbformat": 4,
 "nbformat_minor": 4
}
