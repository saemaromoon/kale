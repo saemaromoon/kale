{
 "cells": [
  {
   "cell_type": "code",
   "execution_count": 1,
   "metadata": {},
   "outputs": [
    {
     "name": "stdout",
     "output_type": "stream",
     "text": [
      "duration = 4.003803730010986\n",
      "results =  [0, 1, 2, 3]\n"
     ]
    }
   ],
   "source": [
    "import time\n",
    "\n",
    "def do_some_work(x):\n",
    "    time.sleep(1) # Replace this with work you need to do.\n",
    "    return x\n",
    "\n",
    "start = time.time()\n",
    "results = [do_some_work(x) for x in range(4)]\n",
    "print(\"duration =\", time.time() - start)\n",
    "print(\"results = \", results)"
   ]
  },
  {
   "cell_type": "code",
   "execution_count": 2,
   "metadata": {},
   "outputs": [
    {
     "data": {
      "text/plain": [
       "ClientContext(dashboard_url='192.168.95.118:8265', python_version='3.7.7', ray_version='1.10.0', ray_commit='5ea565317a8104c04ae7892bb9bb41c6d72f12df', protocol_version='2021-12-07', _num_clients=1, _context_to_restore=<ray.util.client._ClientContext object at 0x7f8cebc89e90>)"
      ]
     },
     "execution_count": 2,
     "metadata": {},
     "output_type": "execute_result"
    }
   ],
   "source": [
    "import time\n",
    "import ray\n",
    "\n",
    "ray.init(\"ray://10.100.3.60:10001\")\n"
   ]
  },
  {
   "cell_type": "code",
   "execution_count": 3,
   "metadata": {},
   "outputs": [],
   "source": [
    "@ray.remote\n",
    "def do_some_work(x):\n",
    "    time.sleep(1) # Replace this with work you need to do.\n",
    "    return x\n"
   ]
  },
  {
   "cell_type": "code",
   "execution_count": 4,
   "metadata": {},
   "outputs": [
    {
     "name": "stdout",
     "output_type": "stream",
     "text": [
      "duration = 0.005023002624511719\n",
      "results =  [ClientObjectRef(81fa1a05d80277e3ffffffffffffffffffffffff0200000001000000), ClientObjectRef(874253cc82fde8d4ffffffffffffffffffffffff0200000001000000), ClientObjectRef(25055cccb89d10f8ffffffffffffffffffffffff0200000001000000), ClientObjectRef(cc6fcc9ece95b7fbffffffffffffffffffffffff0200000001000000)]\n"
     ]
    }
   ],
   "source": [
    "start = time.time()\n",
    "results = [do_some_work.remote(x) for x in range(4)]\n",
    "print(\"duration =\", time.time() - start)\n",
    "print(\"results = \", results)"
   ]
  },
  {
   "cell_type": "code",
   "execution_count": 5,
   "metadata": {},
   "outputs": [
    {
     "name": "stdout",
     "output_type": "stream",
     "text": [
      "duration = 4.022571325302124\n",
      "results =  [0, 1, 2, 3]\n"
     ]
    }
   ],
   "source": [
    "start = time.time()\n",
    "results = [ray.get(do_some_work.remote(x)) for x in range(4)]\n",
    "print(\"duration =\", time.time() - start)\n",
    "print(\"results = \", results)"
   ]
  },
  {
   "cell_type": "code",
   "execution_count": 6,
   "metadata": {},
   "outputs": [
    {
     "name": "stdout",
     "output_type": "stream",
     "text": [
      "duration = 2.4028892517089844\n",
      "results =  [0, 1, 2, 3]\n"
     ]
    }
   ],
   "source": [
    "start = time.time()\n",
    "results = ray.get([do_some_work.remote(x) for x in range(4)])\n",
    "print(\"duration =\", time.time() - start)\n",
    "print(\"results = \", results)"
   ]
  },
  {
   "cell_type": "code",
   "execution_count": 7,
   "metadata": {},
   "outputs": [
    {
     "name": "stdout",
     "output_type": "stream",
     "text": [
      "duration = 7.336802005767822\n",
      "results =  [0, 1, 2, 3, 4, 5, 6, 7, 8, 9, 10, 11, 12, 13, 14, 15, 16, 17, 18, 19, 20, 21, 22, 23, 24, 25, 26, 27, 28, 29]\n"
     ]
    }
   ],
   "source": [
    "start = time.time()\n",
    "results = ray.get([do_some_work.remote(x) for x in range(30)])\n",
    "print(\"duration =\", time.time() - start)\n",
    "print(\"results = \", results)"
   ]
  },
  {
   "cell_type": "code",
   "execution_count": 8,
   "metadata": {},
   "outputs": [],
   "source": [
    "ray.shutdown()"
   ]
  }
 ],
 "metadata": {
  "kernelspec": {
   "display_name": "Python 3 (ipykernel)",
   "language": "python",
   "name": "python3"
  },
  "kubeflow_notebook": {
   "autosnapshot": false,
   "docker_image": "saemaromoon/tf2.1.0-kale@sha256:6d8d4522c89c4349a75afc3c5f17a82867ae553eb7781d22bed78686ef0042c8",
   "experiment": {
    "id": "",
    "name": ""
   },
   "experiment_name": "",
   "katib_metadata": {
    "algorithm": {
     "algorithmName": "grid"
    },
    "maxFailedTrialCount": 3,
    "maxTrialCount": 12,
    "objective": {
     "objectiveMetricName": "",
     "type": "minimize"
    },
    "parallelTrialCount": 3,
    "parameters": []
   },
   "katib_run": false,
   "pipeline_description": "",
   "pipeline_name": "",
   "snapshot_volumes": false,
   "steps_defaults": [],
   "volume_access_mode": "rwm",
   "volumes": []
  },
  "language_info": {
   "codemirror_mode": {
    "name": "ipython",
    "version": 3
   },
   "file_extension": ".py",
   "mimetype": "text/x-python",
   "name": "python",
   "nbconvert_exporter": "python",
   "pygments_lexer": "ipython3",
   "version": "3.7.12"
  }
 },
 "nbformat": 4,
 "nbformat_minor": 4
}
