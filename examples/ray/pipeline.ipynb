{
 "cells": [
  {
   "cell_type": "code",
   "execution_count": 1,
   "metadata": {},
   "outputs": [],
   "source": [
    "import time\n",
    "import numpy as np"
   ]
  },
  {
   "cell_type": "code",
   "execution_count": 3,
   "metadata": {},
   "outputs": [],
   "source": [
    "def func1(i: int) -> int:\n",
    "    time.sleep(0.001)\n",
    "    return i + 1\n",
    "\n",
    "def func2(i: int) -> int:\n",
    "    time.sleep(0.001)\n",
    "    return i * 2\n",
    "\n",
    "def func3(i: int) -> int:\n",
    "    time.sleep(0.001)\n",
    "    return i % 3"
   ]
  },
  {
   "cell_type": "code",
   "execution_count": 4,
   "metadata": {},
   "outputs": [
    {
     "name": "stdout",
     "output_type": "stream",
     "text": [
      "10000\n",
      "[    1     2     3 ...  9998  9999 10000]\n",
      "[    2     4     6 ... 19996 19998 20000]\n",
      "[2 1 0 ... 1 0 2]\n",
      "total ingestion time: {31.8856}s\n"
     ]
    }
   ],
   "source": [
    "# Serial Run\n",
    "serial = np.arange(0,10000)\n",
    "print(len(serial))\n",
    "start = time.time()\n",
    " \n",
    "serial = np.array([func1(xi) for xi in serial])\n",
    "print(serial)\n",
    "serial = np.array([func2(xi) for xi in serial])\n",
    "print(serial)\n",
    "serial = np.array([func3(xi) for xi in serial])\n",
    "print(serial)\n",
    "\n",
    "    \n",
    "print(\"total ingestion time: {%.4f}s\" % float(time.time() - start))"
   ]
  },
  {
   "cell_type": "code",
   "execution_count": 5,
   "metadata": {},
   "outputs": [
    {
     "data": {
      "text/plain": [
       "'1.10.0'"
      ]
     },
     "execution_count": 5,
     "metadata": {},
     "output_type": "execute_result"
    }
   ],
   "source": [
    "import ray\n",
    "ray.__version__"
   ]
  },
  {
   "cell_type": "code",
   "execution_count": 6,
   "metadata": {},
   "outputs": [
    {
     "data": {
      "text/plain": [
       "ClientContext(dashboard_url='192.168.95.118:8265', python_version='3.7.7', ray_version='1.10.0', ray_commit='5ea565317a8104c04ae7892bb9bb41c6d72f12df', protocol_version='2021-12-07', _num_clients=1, _context_to_restore=<ray.util.client._ClientContext object at 0x7f693b257350>)"
      ]
     },
     "execution_count": 6,
     "metadata": {},
     "output_type": "execute_result"
    }
   ],
   "source": [
    "# Connect to a cluster\n",
    "ray.init(\"ray://10.100.3.60:10001\")"
   ]
  },
  {
   "cell_type": "code",
   "execution_count": 7,
   "metadata": {},
   "outputs": [
    {
     "name": "stdout",
     "output_type": "stream",
     "text": [
      "Dataset(num_blocks=200, num_rows=10000, schema=<class 'int'>)\n",
      "DatasetPipeline(num_windows=4, num_stages=1)\n"
     ]
    }
   ],
   "source": [
    "# Create a dataset and then create a pipeline from it.\n",
    "base = ray.data.range(10000)\n",
    "print(base)\n",
    "# -> Dataset(num_blocks=200, num_rows=1000000, schema=<class 'int'>)\n",
    "pipe = base.window(blocks_per_window=50)\n",
    "print(pipe)\n",
    "# -> DatasetPipeline(num_windows=20, num_stages=1)\n",
    "#pipe.show_windows()"
   ]
  },
  {
   "cell_type": "code",
   "execution_count": 8,
   "metadata": {},
   "outputs": [
    {
     "name": "stdout",
     "output_type": "stream",
     "text": [
      "DatasetPipeline(num_windows=4, num_stages=4)\n"
     ]
    }
   ],
   "source": [
    "# Applying transforms to pipelines adds more pipeline stages.\n",
    "pipe = pipe.map(func1)\n",
    "pipe = pipe.map(func2)\n",
    "pipe = pipe.map(func3)\n",
    "print(pipe)\n",
    "# -> DatasetPipeline(num_windows=20, num_stages=4)"
   ]
  },
  {
   "cell_type": "code",
   "execution_count": 9,
   "metadata": {},
   "outputs": [
    {
     "name": "stderr",
     "output_type": "stream",
     "text": [
      "Stage 0:   0%|          | 0/4 [00:00<?, ?it/s]\n",
      "  0%|          | 0/4 [00:00<?, ?it/s]\u001b[A\n",
      "Stage 1:   0%|          | 0/4 [00:00<?, ?it/s]\u001b[A\n",
      "\n",
      "  0%|          | 0/4 [00:00<?, ?it/s]\u001b[A\u001b[A\n",
      "\n",
      "Stage 2:   0%|          | 0/4 [00:00<?, ?it/s]\u001b[A\u001b[A\n",
      "\n",
      "\n",
      "  0%|          | 0/4 [00:00<?, ?it/s]\u001b[A\u001b[A\u001b[A\n",
      "\n",
      "\n",
      "Stage 3:   0%|          | 0/4 [00:00<?, ?it/s]\u001b[A\u001b[A\u001b[A\n",
      "Stage 0:  50%|█████     | 2/4 [00:02<00:02,  1.33s/it]\u001b[A\n",
      "\n",
      "Stage 2:  25%|██▌       | 1/4 [00:03<00:11,  3.82s/it]\u001b[A\u001b[A\n",
      "Stage 0:  75%|███████▌  | 3/4 [00:04<00:01,  1.41s/it]\u001b[A\n",
      "\n",
      "\n",
      "Stage 3:  25%|██▌       | 1/4 [00:04<00:13,  4.56s/it]\u001b[A\u001b[A\u001b[A"
     ]
    },
    {
     "name": "stdout",
     "output_type": "stream",
     "text": [
      "------ Epoch 0 ------\n",
      "=== Window 0 ===\n",
      "2\n",
      "1\n",
      "0\n",
      "2\n",
      "1\n",
      "0\n",
      "2\n",
      "1\n",
      "0\n",
      "2\n"
     ]
    },
    {
     "name": "stderr",
     "output_type": "stream",
     "text": [
      "\n",
      "\n",
      "Stage 2:  50%|█████     | 2/4 [00:05<00:05,  2.64s/it]\u001b[A\u001b[A\n",
      "Stage 0: 100%|██████████| 4/4 [00:05<00:00,  1.48s/it]\u001b[A\n",
      "\n",
      "\n",
      "Stage 3:  50%|█████     | 2/4 [00:06<00:05,  2.93s/it]\u001b[A\u001b[A\u001b[A"
     ]
    },
    {
     "name": "stdout",
     "output_type": "stream",
     "text": [
      "=== Window 1 ===\n",
      "1\n",
      "0\n",
      "2\n",
      "1\n",
      "0\n",
      "2\n",
      "1\n",
      "0\n",
      "2\n",
      "1\n"
     ]
    },
    {
     "name": "stderr",
     "output_type": "stream",
     "text": [
      "\n",
      "\n",
      "Stage 2:  75%|███████▌  | 3/4 [00:07<00:02,  2.22s/it]\u001b[A\u001b[A\n",
      "Stage 1: 100%|██████████| 4/4 [00:07<00:00,  1.73s/it]\u001b[A\n",
      "\n",
      "\n",
      "Stage 3:  75%|███████▌  | 3/4 [00:07<00:02,  2.31s/it]\u001b[A\u001b[A\u001b[A"
     ]
    },
    {
     "name": "stdout",
     "output_type": "stream",
     "text": [
      "=== Window 2 ===\n",
      "0\n",
      "2\n",
      "1\n",
      "0\n",
      "2\n",
      "1\n",
      "0\n",
      "2\n",
      "1\n",
      "0\n"
     ]
    },
    {
     "name": "stderr",
     "output_type": "stream",
     "text": [
      "\n",
      "\n",
      "Stage 2: 100%|██████████| 4/4 [00:08<00:00,  1.77s/it]\u001b[A\u001b[A\n",
      "\n",
      "\n",
      "Stage 3: 100%|██████████| 4/4 [00:08<00:00,  2.25s/it]\u001b[A\u001b[A\u001b[A\n",
      "Stage 2: 100%|██████████| 4/4 [00:08<00:00,  2.25s/it]\n",
      "Stage 1: 100%|██████████| 4/4 [00:08<00:00,  2.25s/it]\n",
      "Stage 0: 100%|██████████| 4/4 [00:09<00:00,  2.25s/it]"
     ]
    },
    {
     "name": "stdout",
     "output_type": "stream",
     "text": [
      "=== Window 3 ===\n",
      "2\n",
      "1\n",
      "0\n",
      "2\n",
      "1\n",
      "0\n",
      "2\n",
      "1\n",
      "0\n",
      "2\n",
      "total ingestion time: {9.0432}s\n"
     ]
    },
    {
     "name": "stderr",
     "output_type": "stream",
     "text": [
      "\n"
     ]
    }
   ],
   "source": [
    "start = time.time()\n",
    "pipe.show_windows()\n",
    "print(\"total ingestion time: {%.4f}s\" % float(time.time() - start))"
   ]
  },
  {
   "cell_type": "code",
   "execution_count": 10,
   "metadata": {},
   "outputs": [],
   "source": [
    "# Connect to a cluster\n",
    "ray.shutdown()"
   ]
  }
 ],
 "metadata": {
  "kernelspec": {
   "display_name": "Python 3 (ipykernel)",
   "language": "python",
   "name": "python3"
  },
  "kubeflow_notebook": {
   "autosnapshot": false,
   "docker_image": "saemaromoon/tf2.1.0-kale@sha256:c6ab8f9fd901ab2c546474f29d4726b9502a6b119605ff5389dde77e4b6d5a09",
   "experiment": {
    "id": "",
    "name": ""
   },
   "experiment_name": "",
   "katib_metadata": {
    "algorithm": {
     "algorithmName": "grid"
    },
    "maxFailedTrialCount": 3,
    "maxTrialCount": 12,
    "objective": {
     "objectiveMetricName": "",
     "type": "minimize"
    },
    "parallelTrialCount": 3,
    "parameters": []
   },
   "katib_run": false,
   "pipeline_description": "",
   "pipeline_name": "",
   "snapshot_volumes": false,
   "steps_defaults": [],
   "volume_access_mode": "rwm",
   "volumes": []
  },
  "language_info": {
   "codemirror_mode": {
    "name": "ipython",
    "version": 3
   },
   "file_extension": ".py",
   "mimetype": "text/x-python",
   "name": "python",
   "nbconvert_exporter": "python",
   "pygments_lexer": "ipython3",
   "version": "3.7.12"
  }
 },
 "nbformat": 4,
 "nbformat_minor": 4
}
