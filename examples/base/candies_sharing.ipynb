{
 "cells": [
  {
   "cell_type": "markdown",
   "metadata": {
    "tags": []
   },
   "source": [
    "## Kale base example\n",
    "\n",
    "This notebook presents a minimal example to show how Kale can convert a Notebook to a pipeline applying Notebook annotations.\n",
    "\n",
    "Variables that are constant throughout the Notebook are transformed into pipeline parameters, so that the pipeline can be re-run with different initializations. Code cells are divided into pipeline steps by mean of notebook tags. You can look at the annotations by inspecting the Notebook source, or by installing the Kale jupyter extension (see [github.com/kubeflow-kale/kale](https://github.com/kubeflow-kale/kale))"
   ]
  },
  {
   "cell_type": "code",
   "execution_count": 26,
   "metadata": {
    "tags": [
     "imports"
    ]
   },
   "outputs": [],
   "source": [
    "import random"
   ]
  },
  {
   "cell_type": "code",
   "execution_count": 34,
   "metadata": {
    "tags": [
     "pipeline-parameters"
    ]
   },
   "outputs": [],
   "source": [
    "CANDIES = 20"
   ]
  },
  {
   "cell_type": "code",
   "execution_count": 35,
   "metadata": {
    "tags": [
     "functions"
    ]
   },
   "outputs": [],
   "source": [
    "def get_handful(left):\n",
    "    if left == 0:\n",
    "        print(\"There are no candies left! I want to cry :(\")\n",
    "        return 0\n",
    "    c = random.randint(1, left)\n",
    "    print(\"I got %s candies!\" % c)\n",
    "    return c"
   ]
  },
  {
   "cell_type": "code",
   "execution_count": 36,
   "metadata": {
    "tags": [
     "block:sack"
    ]
   },
   "outputs": [
    {
     "name": "stdout",
     "output_type": "stream",
     "text": [
      "Let's put in a bag 20 candies and have three kids get a handful of them each\n"
     ]
    }
   ],
   "source": [
    "print(\"Let's put in a bag %s candies and have three kids get a handful of them each\" % CANDIES)"
   ]
  },
  {
   "cell_type": "code",
   "execution_count": 37,
   "metadata": {
    "tags": [
     "block:kid1",
     "prev:sack"
    ]
   },
   "outputs": [
    {
     "name": "stdout",
     "output_type": "stream",
     "text": [
      "I got 13 candies!\n"
     ]
    }
   ],
   "source": [
    "# kid1 gets a handful, without looking in the bad!\n",
    "kid1 = get_handful(CANDIES)"
   ]
  },
  {
   "cell_type": "code",
   "execution_count": 49,
   "metadata": {
    "tags": [
     "block:kid2",
     "prev:kid1"
    ]
   },
   "outputs": [
    {
     "name": "stdout",
     "output_type": "stream",
     "text": [
      "I got 7 candies!\n"
     ]
    }
   ],
   "source": [
    "kid2 = get_handful(CANDIES - kid1)"
   ]
  },
  {
   "cell_type": "code",
   "execution_count": 50,
   "metadata": {
    "tags": [
     "block:kid3",
     "prev:kid2"
    ]
   },
   "outputs": [
    {
     "name": "stdout",
     "output_type": "stream",
     "text": [
      "There are no candies left! I want to cry :(\n"
     ]
    }
   ],
   "source": [
    "kid3 = get_handful(CANDIES - kid1 - kid2)"
   ]
  }
 ],
 "metadata": {
  "kernelspec": {
   "display_name": "Python 3 (ipykernel)",
   "language": "python",
   "name": "python3"
  },
  "kubeflow_notebook": {
   "autosnapshot": false,
   "docker_image": "saemaromoon/tf2.1.0-kale:v0.0.7",
   "experiment": {
    "id": "bc14d2e0-e66b-4027-850a-dd3203ff3979",
    "name": "test1ex"
   },
   "experiment_name": "test1ex",
   "katib_metadata": {
    "algorithm": {
     "algorithmName": "grid"
    },
    "maxFailedTrialCount": 3,
    "maxTrialCount": 12,
    "objective": {
     "objectiveMetricName": "",
     "type": "minimize"
    },
    "parallelTrialCount": 3,
    "parameters": []
   },
   "katib_run": false,
   "pipeline_description": "Share some candies between three lovely kids",
   "pipeline_name": "candies-sharing",
   "snapshot_volumes": false,
   "steps_defaults": [],
   "storage_class_name": "kf-efs-sc",
   "volume_access_mode": "rwm",
   "volumes": []
  },
  "language_info": {
   "codemirror_mode": {
    "name": "ipython",
    "version": 3
   },
   "file_extension": ".py",
   "mimetype": "text/x-python",
   "name": "python",
   "nbconvert_exporter": "python",
   "pygments_lexer": "ipython3",
   "version": "3.7.12"
  }
 },
 "nbformat": 4,
 "nbformat_minor": 4
}
